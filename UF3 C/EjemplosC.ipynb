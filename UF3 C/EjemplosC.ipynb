{
 "cells": [
  {
   "attachments": {},
   "cell_type": "markdown",
   "metadata": {},
   "source": [
    "Comptar caràcters en C"
   ]
  },
  {
   "cell_type": "markdown",
   "metadata": {
    "vscode": {
     "languageId": "c"
    }
   },
   "source": [
    "#include <stdio.h>\n",
    "#include <string.h>\n",
    "\n",
    "int main(){\n",
    "    char szA[]=\"Una frase amb paraules\",szB[99];\n",
    "    \n",
    "    printf(\"szA: \\\"%s\\\" té %d caràcters\\n\",szA,(int)strlen(szA));\n",
    "\n",
    "    return 0;\n",
    "}"
   ]
  },
  {
   "attachments": {},
   "cell_type": "markdown",
   "metadata": {},
   "source": [
    "Copiar cadenes en C"
   ]
  },
  {
   "cell_type": "markdown",
   "metadata": {
    "vscode": {
     "languageId": "c"
    }
   },
   "source": [
    "/*\n",
    "Còpia de cadenes\n",
    "*/\n",
    "#include <stdio.h>\n",
    "#include <string.h>\n",
    "\n",
    "int main(){\n",
    "    char szA[]=\"Una frase amb paraules\",szB[99];\n",
    "    \n",
    "    printf(\"szA: \\\"%s\\\" té %d caràcters\\n\",szA,(int)strlen(szA));\n",
    "    strcpy(szB,szA);// szB = szA;\n",
    "    printf(\"szB: \\\"%s\\\" té %d caràcters\\n\",szB,(int)strlen(szB));\n",
    "\n",
    "    return 0;\n",
    "}"
   ]
  },
  {
   "cell_type": "markdown",
   "metadata": {
    "vscode": {
     "languageId": "c"
    }
   },
   "source": [
    "/*\n",
    "Còpia d'uns quants caràcters\n",
    "*/\n",
    "#include <stdio.h>\n",
    "#include <string.h>\n",
    "\n",
    "int main(){\n",
    "    char szA[]=\"Una frase amb paraules\",szB[99];\n",
    "    \n",
    "    printf(\"szA: \\\"%s\\\" té %d caràcters\\n\",szA,(int)strlen(szA));\n",
    "    // strcpy(szB,szA);// szB = szA;\n",
    "    printf(\"szB: \\\"%s\\\" te %d caràcters\\n\",szB,(int)strlen(strncpy(szB,szA,5)));\n",
    "\n",
    "    return 0;\n",
    "}"
   ]
  },
  {
   "cell_type": "markdown",
   "metadata": {
    "vscode": {
     "languageId": "c"
    }
   },
   "source": [
    "/*\n",
    "Còpia a partir de certa posició\n",
    "*/\n",
    "#include <stdio.h>\n",
    "#include <string.h>\n",
    "\n",
    "int main(){\n",
    "    char szA[]=\"Una frase amb paraules\",szB[99];\n",
    "    \n",
    "    printf(\"szA: \\\"%s\\\" té %d caràcters\\n\",szA,(int)strlen(szA));\n",
    "    strcpy(szB,&szA[0]);// strcpy(szB,szA);\n",
    "    printf(\"szB: \\\"%s\\\" te %d caràcters\\n\",&szB[14],(int)strlen(&szB[14]));\n",
    "    strcpy(szB,&szA[4]);\n",
    "    printf(\"szB: \\\"%s\\\" te %d caràcters\\n\",szB,(int)strlen(szB));\n",
    "\n",
    "    return 0;\n",
    "}"
   ]
  },
  {
   "attachments": {},
   "cell_type": "markdown",
   "metadata": {},
   "source": [
    "Concatenació de cadenes en C"
   ]
  },
  {
   "cell_type": "markdown",
   "metadata": {
    "vscode": {
     "languageId": "c"
    }
   },
   "source": [
    "/*\n",
    "concatenacio.c\n",
    "*/\n",
    "#include <stdio.h>\n",
    "#include <string.h>\n",
    "\n",
    "int main(){\n",
    "    char szA[99]=\"Una frase amb paraules\",szB[] = \" i aqui continua\";\n",
    "    \n",
    "    printf(\"szA: \\\"%s\\\" té %d caràcters\\n\",szA,(int)strlen(szA));\n",
    "    // strcat(szA,szB); // Concatena szB després de szA\n",
    "    printf(\"szA: \\\"%s\\\" té %d caràcters\\n\",szA,(int)strlen(strcat(szA,szB)));\n",
    "    \n",
    "    return 0;\n",
    "}"
   ]
  },
  {
   "attachments": {},
   "cell_type": "markdown",
   "metadata": {},
   "source": [
    "Comparació de cadenes en C"
   ]
  },
  {
   "cell_type": "markdown",
   "metadata": {
    "vscode": {
     "languageId": "c"
    }
   },
   "source": [
    "/*\n",
    "comparacioCadenes.c\n",
    "*/\n",
    "#include <stdio.h>\n",
    "#include <string.h>\n",
    "\n",
    "int main(){\n",
    "    char szA[99]=\"frase\",szB[] = \"frase\",szC[] = \"Una altra frase\";\n",
    "    \n",
    "   if (!strcmp(szA,szB)){ // si strcmp() retorna 0 són cadenes iguals\n",
    "        printf(\"\\\"%s\\\" és igual a \\\"%s\\\"\\n\",szA,szB);\n",
    "    }else{\n",
    "        printf(\"\\\"%s\\\" no és igual a \\\"%s\\\"\\n\",szA,szB);\n",
    "    }\n",
    "    strcpy(szA,szC);\n",
    "    if (!strcmp(szA,szB)){\n",
    "        printf(\"\\\"%s\\\" és igual a \\\"%s\\\"\\n\",szA,szB);\n",
    "    }else{\n",
    "        printf(\"\\\"%s\\\" no és igual a \\\"%s\\\"\\n\",szA,szB);\n",
    "    }\n",
    "    \n",
    "    return 0;\n",
    "}"
   ]
  },
  {
   "attachments": {},
   "cell_type": "markdown",
   "metadata": {},
   "source": [
    "Pas d'arguments pel terminal en C"
   ]
  },
  {
   "cell_type": "markdown",
   "metadata": {
    "vscode": {
     "languageId": "c"
    }
   },
   "source": [
    "// argc01.c\n",
    "#include <stdio.h>\n",
    "\n",
    "int main(int argc,char*argv[]){\n",
    "    \n",
    "    if (argc == 2){\n",
    "        printf(\"L'argument es: \\\"%s\\\"\\n\",argv[1]);\n",
    "    }else{\n",
    "        printf(\"No hi ha un argument \\n\");\n",
    "    }\n",
    "    \n",
    "    return 0;\n",
    "}"
   ]
  },
  {
   "attachments": {},
   "cell_type": "markdown",
   "metadata": {},
   "source": [
    "Llegir arxius línia a línia en C"
   ]
  },
  {
   "cell_type": "markdown",
   "metadata": {
    "vscode": {
     "languageId": "c"
    }
   },
   "source": [
    "// fitxerLlegintLiniaPerlinia.c\n",
    "#include <stdio.h>\n",
    "#include <string.h>\n",
    "#define N 99\n",
    "\n",
    "int main(int argc, char* argv[]){\n",
    "   FILE *f;\n",
    "    char szFitxer[N], ch, szContingut[999];\n",
    "\n",
    "    if (argc == 2){\n",
    "        strcpy(szFitxer, argv[1]);\n",
    "    }else{\n",
    "        printf(\"Nom fitxer: \");\n",
    "        scanf(\"%s\", szFitxer);\n",
    "    }\n",
    "    f = fopen(szFitxer, \"r\");\n",
    "   if(f){ //si f es NULL (0) vol dir que el arxiu no s'ha pogut obrir\n",
    "        printf(\"L'arxiu %s existeix\\n\", szFitxer);\n",
    "        printf(\"El contingut de l'arxiu és: \\n\");\n",
    "        fread(szContingut, 1, 999, f);\n",
    "        printf(\"%s\", szContingut);\n",
    "        fclose(f);\n",
    "    } else{\n",
    "        printf(\"L'arxiu %s no existeix\\n\", szFitxer);\n",
    "    }\n",
    "\n",
    "    return 0;\n",
    "}"
   ]
  },
  {
   "attachments": {},
   "cell_type": "markdown",
   "metadata": {},
   "source": [
    "Estructures en C"
   ]
  },
  {
   "cell_type": "markdown",
   "metadata": {
    "vscode": {
     "languageId": "c"
    }
   },
   "source": [
    "#include <stdio.h>\n",
    "\n",
    "struct treballador{\n",
    "    char nom[50];\n",
    "    char cognom1[30];\n",
    "    char cognom2[30];\n",
    "    int edat;\n",
    "};\n",
    "\n",
    "void vPresentaTreballador(struct treballador stT, const char *szQui){\n",
    "    printf(\"%s: %s %s %s te %d anys\\n\",szQui,stT.nom,stT.cognom1,stT.cognom2,stT.edat);\n",
    "}\n",
    "\n",
    "void vAugmentaUnAny(struct treballador *pStT){\n",
    "    (*pStT).edat += 1;\n",
    "}\n",
    "\n",
    "void vAugmentaUnAny2(struct treballador *pStT){\n",
    "    //(*pStT).edat += 1;\n",
    "    pStT->edat += 1;\n",
    "}\n",
    "\n",
    "int main(){\n",
    "    struct treballador *pT,enginyer, administratiu = {\"Eric\",\"Alvarez\",\"Cuerva\",18}, auxiliar;\n",
    "    \n",
    "    vPresentaTreballador(administratiu,\"Administratiu\");\n",
    "    pT = &administratiu;\n",
    "    vPresentaTreballador(*pT,\"Apuntador a administratiu\");\n",
    "    vAugmentaUnAny(pT); //Pas per referència de l'estructura\n",
    "    vPresentaTreballador(*pT,\"1) Apuntador a administratiu amb un any incrementat\");\n",
    "    vAugmentaUnAny2(pT); //Pas per referència de l'estructura\n",
    "    vPresentaTreballador(*pT,\"2) Apuntador a administratiu amb un any incrementat\");\n",
    "    \n",
    "    return 0;\n",
    "}\n"
   ]
  },
  {
   "attachments": {},
   "cell_type": "markdown",
   "metadata": {},
   "source": [
    "Unions en C"
   ]
  },
  {
   "cell_type": "markdown",
   "metadata": {
    "vscode": {
     "languageId": "c"
    }
   },
   "source": [
    "/*\n",
    "unions.c\n",
    "http://www.xtec.cat/formaciotic/ateneu_historic/materials/td97/d97m7/d97m7p7.htm\n",
    "*/\n",
    "#include <stdio.h>\n",
    "\n",
    "struct notes {\n",
    "    int mat, fis, inf,qui, fil ;\n",
    "};\n",
    "\n",
    "union alumne {\n",
    "    struct notes N;\n",
    "    int nota[5];\n",
    "};\n",
    "\n",
    "int main(){\n",
    "    int ct;\n",
    "    union alumne joan;\n",
    "\n",
    "    joan.N.mat=10;\n",
    "    joan.N.fis=9;\n",
    "    joan.N.inf=7;\n",
    "    joan.N.qui=9;\n",
    "    joan.N.fil=10;\n",
    "\n",
    "    printf(\"\\nmat\\tfis\\tinf\\tqui\\tfil\\n\");\n",
    "    for(ct=0;ct<5;ct++){\n",
    "        printf(\"%d\\t\",joan.nota[ct]);\n",
    "    }\n",
    "\n",
    "    return 0;\n",
    "}"
   ]
  },
  {
   "attachments": {},
   "cell_type": "markdown",
   "metadata": {},
   "source": [
    "Enumeració en C"
   ]
  },
  {
   "cell_type": "markdown",
   "metadata": {
    "vscode": {
     "languageId": "c"
    }
   },
   "source": [
    "#include <stdio.h>\n",
    "\n",
    "enum dia {dilluns, dimarts, dimecres = 7, dijous, divendres, dissabte, diumenge};\n",
    "\n",
    "int main(){\n",
    "    enum dia avui;\n",
    "    \n",
    "    avui = divendres;\n",
    "    if (avui == divendres){\n",
    "        printf(\"És divendres\\n\");\n",
    "    }else{\n",
    "        printf(\"No és divendres\\n\");\n",
    "    }\n",
    "    printf(\"avui:  %d\\n\",(int)avui);\n",
    "    avui = diumenge;\n",
    "    if (avui == divendres){\n",
    "        printf(\"És divendres\\n\");\n",
    "    }else{\n",
    "        printf(\"No és divendres\\n\");\n",
    "    }\n",
    "\n",
    "    return 0;\n",
    "}\n"
   ]
  },
  {
   "attachments": {},
   "cell_type": "markdown",
   "metadata": {},
   "source": [
    "putc() i getc()"
   ]
  },
  {
   "cell_type": "markdown",
   "metadata": {
    "vscode": {
     "languageId": "c"
    }
   },
   "source": [
    "// m8p01.c - Creació, escriptura i lectura d'un arxiu -\n",
    "// http://www.xtec.cat/formaciotic/ateneu_historic/materials/td97/d97m8/d97m8p1.htm\n",
    "#include <stdio.h>\n",
    "#include <stdlib.h>\n",
    "\n",
    "int main(){\n",
    "   FILE *f;\n",
    "    char car;\n",
    "\n",
    "  //procés d'escriptura\n",
    "    system(\"clear\");\n",
    "    if((f=fopen(\"arxiu.txt\",\"w\"))==NULL){\n",
    "        printf(\"Error al intentar obrir l'arxiu\\n\");\n",
    "        return;\n",
    "    }\n",
    "    printf(\"Introduïu un text (Premeu return per acabar): \");\n",
    "    while ((car=getchar())!='\\n') putc(car,f);\n",
    "    fclose(f);\n",
    "\n",
    "  //procés de lectura\n",
    "    printf(\"Lectura de l'arxiu\\n\");\n",
    "    if((f=fopen(\"arxiu.txt\",\"r\"))==NULL){\n",
    "        printf(\"Error a l'intentar obrir l'arxiu\\n\");\n",
    "        return 1;\n",
    "    }\n",
    "    while((car=getc(f))!=EOF) putchar(car);\n",
    "    putchar('\\n');\n",
    "    fclose(f);\n",
    "\n",
    "    return 0;\n",
    "}"
   ]
  },
  {
   "attachments": {},
   "cell_type": "markdown",
   "metadata": {},
   "source": [
    "fread()"
   ]
  },
  {
   "cell_type": "markdown",
   "metadata": {
    "vscode": {
     "languageId": "c"
    }
   },
   "source": [
    "// fitxerLlegintLiniaPerlinia.c\n",
    "#include <stdio.h>\n",
    "#include <string.h>\n",
    "#define N 99\n",
    "\n",
    "int main(int argc, char* argv[]){\n",
    "   FILE *f;\n",
    "    char szFitxer[N], ch, szContingut[999];\n",
    "\n",
    "    if (argc == 2){\n",
    "        strcpy(szFitxer, argv[1]);\n",
    "    } else{\n",
    "        printf(\"Nom fitxer: \");\n",
    "        scanf(\"%s\", szFitxer);\n",
    "    }\n",
    "    f = fopen(szFitxer, \"r\");\n",
    "   if(f){ //si f es NULL (0) vol dir que el arxiu no s'ha pogut obrir\n",
    "        printf(\"L'arxiu %s existeix\\n\", szFitxer);\n",
    "        printf(\"El contingut de l'arxiu és: \\n\");\n",
    "        fread(szContingut, 1, 999, f);\n",
    "        printf(\"%s\", szContingut);\n",
    "        fclose(f);\n",
    "    } else{\n",
    "        printf(\"L'arxiu %s no existeix\\n\", szFitxer);\n",
    "    }\n",
    "\n",
    "    return 0;\n",
    "}"
   ]
  },
  {
   "attachments": {},
   "cell_type": "markdown",
   "metadata": {},
   "source": [
    "fputs() i fgets()\n"
   ]
  },
  {
   "cell_type": "markdown",
   "metadata": {
    "vscode": {
     "languageId": "c"
    }
   },
   "source": [
    "// m8p02.cc - Lectura i escriptura amb fgets() i fputs() -\n",
    "// http://www.xtec.cat/formaciotic/ateneu_historic/materials/td97/d97m8/d97m8p2.htm\n",
    "#include <stdio.h>\n",
    "#include <string.h>\n",
    "\n",
    "int main(){\n",
    "   FILE *apuntador;\n",
    "    char cadena[80];\n",
    "\n",
    "    if (( apuntador = fopen(\"fitxers.txt\",\"w\"))==NULL)\n",
    "        puts(\"\\nNo puc crear l'arxiu fitxers.txt\");\n",
    "    else{\n",
    "        printf(\"Introduïu text de vàries línies.\\n\");\n",
    "        printf(\"Una línia en blanc per acabar.\\n\");\n",
    "        while (strlen(fgets(cadena,80,stdin))!=1){\n",
    "            fputs(cadena,apuntador);\n",
    "          // fputs(\"\\n\",apuntador);\n",
    "        }\n",
    "        fclose(apuntador);\n",
    "    }\n",
    "\n",
    "// lectura \n",
    "    if (( apuntador = fopen(\"fitxers.txt\",\"r\"))==NULL)\n",
    "        puts(\"\\nNo puc crear l'arxiu: fitxers.txt\");\n",
    "    else{\n",
    "        while (fgets(cadena,80,apuntador) != NULL)\n",
    "            printf(\"%s\",cadena);\n",
    "        fclose(apuntador);\n",
    "    }\n",
    "\n",
    "    return 0;\n",
    "}"
   ]
  },
  {
   "attachments": {},
   "cell_type": "markdown",
   "metadata": {},
   "source": [
    "fprintf() i fscanf()"
   ]
  },
  {
   "cell_type": "markdown",
   "metadata": {
    "vscode": {
     "languageId": "c"
    }
   },
   "source": [
    "// m8p03.c - Lectura i escriptura amb fprintf() i fscanf() -\n",
    "// http://www.xtec.cat/formaciotic/ateneu_historic/materials/td97/d97m8/d97m8p3.htm\n",
    "#include <stdio.h>\n",
    "\n",
    "int main(){\n",
    "    FILE *f;\n",
    "    int codi;\n",
    "    char nom[20];\n",
    "    char cognom[20];\n",
    "    float nota;\n",
    "\n",
    "    f = fopen(\"prova.txt\",\"w\");\n",
    "    printf(\"\\n Introduïu les dades.\");\n",
    "    printf(\"\\n Escriviu 0 al codi per finalitzar\\n\");\n",
    "    if (f!=NULL){\n",
    "        do{\n",
    "            printf(\"\\nIntroduïu el codi: \");\n",
    "            scanf(\" %d\",&codi); if(codi==0) break;\n",
    "            printf(\"Introduïu el nom: \");\n",
    "            scanf(\" %s\",nom);\n",
    "            printf(\"Introduïu el cognom: \");\n",
    "            scanf(\" %s\", cognom);\n",
    "            printf(\"Introduïu la nota: \");\n",
    "            scanf(\" %f\",&nota);\n",
    "            fprintf(f, \"%d %s %s %f\\n\",codi, nom, cognom, nota);\n",
    "        }while (1);\n",
    "        fclose(f);\n",
    "    }\n",
    "\n",
    "   /* lectura */\n",
    "   printf(\"\\n\\n************** Lectura ************* \\n\\n\");\n",
    "    if ( (f = fopen(\"prova.txt\",\"r\")) != NULL ){\n",
    "        while (fscanf(f, \"%d %s %s %f\",&codi, nom,cognom, &nota) != EOF){\n",
    "            printf(\"%d %s %s %f\\n\",codi, nom, cognom, nota);\n",
    "        }\n",
    "        fclose(f);\n",
    "    }\n",
    "\n",
    "    return 0;\n",
    "}"
   ]
  },
  {
   "attachments": {},
   "cell_type": "markdown",
   "metadata": {},
   "source": [
    "Assignació dinàmica de memòria a C"
   ]
  },
  {
   "attachments": {},
   "cell_type": "markdown",
   "metadata": {
    "vscode": {
     "languageId": "c"
    }
   },
   "source": [
    "// m7pa1.c - Construcció d'una matriu dinàmicament -\n",
    "// http://www.xtec.cat/formaciotic/ateneu_historic/materials/td97/d97m7/d97m7a1.htm\n",
    "#include <stdio.h>\n",
    "#include <stdlib.h>\n",
    "\n",
    "int main(){\n",
    "    int i,j,n;\n",
    "    double *a;\n",
    "\n",
    "    printf(\"Introduïu la dimensió de la matriu: \");\n",
    "    scanf(\"%d\", &n);\n",
    "    a=(double*)calloc(n*n, sizeof(double));\n",
    "    //alternativa1: a=(double*)malloc(n*n*sizeof(double));\n",
    "    //alternativa2: a=new double[n*n];\n",
    "\n",
    "    //lectura dels elements de la matriu\n",
    "    for (i=0;i<n;i++){\n",
    "        for (j=0;j<n;j++){\n",
    "          printf(\"a(%d,%d)= \", i+1,j+1);\n",
    "          scanf(\"%lf\", a+i*n+j);\n",
    "        }\n",
    "    }\n",
    "\n",
    "    //escriptura dels elements de la matriu\n",
    "    for (i=0;i<n;i++){\n",
    "        for (j=0;j<n;j++){\n",
    "             printf(\"a(%d,%d)= %lf\\n\", i+1, j+1,*(a+i*n+j));\n",
    "        }\n",
    "    }\n",
    "    free (a);\n",
    "    //  si s'ha fet servir l'alternativa 2: delete(a);\n",
    "    \n",
    "    return 0;\n",
    "}"
   ]
  },
  {
   "attachments": {},
   "cell_type": "markdown",
   "metadata": {},
   "source": [
    "malloc, calloc y realoc\n"
   ]
  },
  {
   "attachments": {},
   "cell_type": "markdown",
   "metadata": {},
   "source": [
    "a = (double*)calloc(n*n, sizeof(double));\n",
    "a = (double*)malloc(n*n*sizeof(double));\n",
    "free(a);\n",
    "\n",
    "--------------------------------\n",
    "a = new double[n*n];\n",
    "delete(a);\n",
    "\n",
    "--------------------------------\n",
    "\n",
    "a = (int*)malloc(sizeof(int));\n",
    "a = (int*)realloc(a,(n+2)*sizeof(int));"
   ]
  }
 ],
 "metadata": {
  "kernelspec": {
   "display_name": "Python 3",
   "language": "python",
   "name": "python3"
  },
  "language_info": {
   "codemirror_mode": {
    "name": "ipython",
    "version": 3
   },
   "file_extension": ".py",
   "mimetype": "text/x-python",
   "name": "python",
   "nbconvert_exporter": "python",
   "pygments_lexer": "ipython3",
   "version": "3.10.2"
  },
  "orig_nbformat": 4
 },
 "nbformat": 4,
 "nbformat_minor": 2
}
